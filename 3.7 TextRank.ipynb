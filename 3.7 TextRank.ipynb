{
 "cells": [
  {
   "cell_type": "code",
   "execution_count": 1,
   "metadata": {},
   "outputs": [],
   "source": [
    "#得到最具代表性的正面句子和負面句子\n",
    "import numpy as np\n",
    "import pandas as pd\n",
    "import nltk\n",
    "import re\n",
    "import matplotlib.pyplot as plt"
   ]
  },
  {
   "cell_type": "code",
   "execution_count": 2,
   "metadata": {},
   "outputs": [],
   "source": [
    "from nltk.tokenize import sent_tokenize\n",
    "from nltk.corpus import stopwords\n",
    "from sklearn.metrics.pairwise import cosine_similarity\n",
    "import networkx as nx"
   ]
  },
  {
   "cell_type": "code",
   "execution_count": 30,
   "metadata": {},
   "outputs": [],
   "source": [
    "#Load Data\n",
    "df = pd.read_csv('classify_reviews/food_topic.csv')\n",
    "food_list = df['0'].values.tolist()\n",
    "\n",
    "df = pd.read_csv('classify_reviews/service_topic.csv')\n",
    "service_list = df['0'].values.tolist()\n",
    "\n",
    "df = pd.read_csv('classify_reviews/ambience_topic.csv')\n",
    "ambience_list = df['0'].values.tolist()\n",
    "\n",
    "df = pd.read_csv('classify_reviews/value_topic.csv')\n",
    "value_list = df['0'].values.tolist()\n",
    "\n",
    "df = pd.read_csv('classify_reviews/others_topic.csv')\n",
    "others_list = df['0'].values.tolist()"
   ]
  },
  {
   "cell_type": "code",
   "execution_count": 4,
   "metadata": {},
   "outputs": [],
   "source": [
    "from vaderSentiment.vaderSentiment import SentimentIntensityAnalyzer\n",
    "analyser = SentimentIntensityAnalyzer()\n",
    "\n",
    "def sentiment_analyzer_scores(sentence):\n",
    "    score = analyser.polarity_scores(sentence)\n",
    "    return score['compound']"
   ]
  },
  {
   "cell_type": "code",
   "execution_count": 5,
   "metadata": {},
   "outputs": [],
   "source": [
    "# function to remove stopwords\n",
    "def remove_stopwords(sen):\n",
    "    stop_words = stopwords.words('english') \n",
    "    sen_new = \" \".join([i for i in sen if i not in stop_words])\n",
    "    return sen_new"
   ]
  },
  {
   "cell_type": "code",
   "execution_count": 6,
   "metadata": {},
   "outputs": [],
   "source": [
    "def TextRank(topic_list):\n",
    "    sentences = []\n",
    "    for x in topic_list:\n",
    "        df = pd.read_csv('original_review_sets/'+x+'.txt', sep='@',header=None,quoting=3)#sep要有隨便東西 不然預設逗號間隔\n",
    "        df = df.dropna(axis=1)\n",
    "        sentences.append(df.values.tolist()[0])\n",
    "    sentences = [y for x in sentences for y in x] # flatten list\n",
    "    #sentences[:5]\n",
    "    \n",
    "    #Extract word vectors\n",
    "    word_embeddings = {}\n",
    "    f = open('data/glove.6B.100d.txt',encoding='utf-8')\n",
    "    for line in f:\n",
    "        values = line.split()\n",
    "        word = values[0]\n",
    "        coefs = np.asarray(values[1:], dtype='float32')\n",
    "        word_embeddings[word] = coefs\n",
    "    f.close()\n",
    "    \n",
    "    #Text Preprocessing\n",
    "    # remove punctuations, numbers and special characters\n",
    "    clean_sentences = pd.Series(sentences).str.replace(\"[^a-zA-Z]\", \" \")\n",
    "\n",
    "    # make alphabets lowercase\n",
    "    clean_sentences = [s.lower() for s in clean_sentences]\n",
    "    \n",
    "    # remove stopwords from the sentences\n",
    "    clean_sentences = [remove_stopwords(r.split()) for r in clean_sentences]\n",
    "    \n",
    "    #句子的特徵向量\n",
    "    sentence_vectors = []\n",
    "    for i in clean_sentences:\n",
    "        if len(i) != 0:\n",
    "            v = sum([word_embeddings.get(w, np.zeros((100,))) for w in i.split()])/(len(i.split())+0.001)\n",
    "        else:\n",
    "            v = np.zeros((100,))\n",
    "        sentence_vectors.append(v)\n",
    "    #相似矩陣準備 similarity matrix\n",
    "    sim_mat = np.zeros([len(sentences), len(sentences)])\n",
    "    \n",
    "    # initialize the matrix with cosine similarity scores\n",
    "    for i in range(len(sentences)):\n",
    "        for j in range(len(sentences)):\n",
    "            if i != j:\n",
    "                sim_mat[i][j] = cosine_similarity(sentence_vectors[i].reshape(1,100), sentence_vectors[j].reshape(1,100))[0,0]\n",
    "    #應用PageRank算法\n",
    "    nx_graph = nx.from_numpy_array(sim_mat)\n",
    "    scores = nx.pagerank(nx_graph)\n",
    "    #排名\n",
    "    ranked_sentences = sorted(((scores[i],s) for i,s in enumerate(sentences)), reverse=True)\n",
    "    # Extract top 5 sentences as the summary\n",
    "    temp=0\n",
    "    print(\"Most representative positive sentence:\")\n",
    "    for i in range(len(sentences)):\n",
    "        if(sentiment_analyzer_scores(ranked_sentences[i][1])>=0.5 and len(ranked_sentences[i][1])<200):\n",
    "            print(ranked_sentences[i][1]+\"\\n\")\n",
    "            temp+=1\n",
    "            if(temp==5):\n",
    "                break;\n",
    "            continue;\n",
    "    temp=0\n",
    "    print(\"Most representative negative sentence:\")\n",
    "    for i in range(len(sentences)):\n",
    "        if(sentiment_analyzer_scores(ranked_sentences[i][1])<=-0.25 and len(ranked_sentences[i][1])<200):\n",
    "            print(ranked_sentences[i][1]+\"\\n\")\n",
    "            temp+=1\n",
    "            if(temp==5):\n",
    "                break;\n",
    "            continue;"
   ]
  },
  {
   "cell_type": "code",
   "execution_count": 31,
   "metadata": {},
   "outputs": [
    {
     "name": "stdout",
     "output_type": "stream",
     "text": [
      "Most representative positive sentence:\n",
      "Well, if we had the tasting menu on their website I'm certain my wife would have been a lot happier with the lobster and pork dishes especially.\n",
      "\n",
      "We went to the Ledbury for a special occasion & as always the cuisine was superb, we had the tasting menu, coupled with the wine menu & it just took the meal to another level.\n",
      "\n",
      "The wine was well chosen and delicious and we had a stunning dessert wine with some lovely cheese at the end.\n",
      "\n",
      "We had the 8 courses tasting menu and it felt like the food kept on coming and the potions were all very generous.\n",
      "\n",
      "Our Wedding Breakfast was stunning, each year the menu, the food, the flavours, the presentation gets better.\n",
      "\n",
      "Most representative negative sentence:\n",
      "There was nothing wrong with the dish but it was just not so elegant and delicate as the other dishes.\n",
      "\n",
      "There wasn’t a poor dish in the entire menu.\n",
      "\n",
      "The canapes were all too greasy, which was not a good way to start the evening.\n",
      "\n",
      "I'm not saying it wasn't good food; it simply wasn't great.\n",
      "\n",
      "We simply needed to know which meals had nuts, olives and radish in as my husband is allergic to them.\n",
      "\n"
     ]
    }
   ],
   "source": [
    "TextRank(food_list)"
   ]
  },
  {
   "cell_type": "code",
   "execution_count": 32,
   "metadata": {},
   "outputs": [
    {
     "name": "stdout",
     "output_type": "stream",
     "text": [
      "Most representative positive sentence:\n",
      "Even if extremely busy, they made our dining experience feel very special and also kindly permitted us a tour of the kitchen.\n",
      "\n",
      "The food was superb, we did the 8 course tasting menu and indeed were lucky enough to be given an extra course to try also.\n",
      "\n",
      "The service was good but for a restaurant like this could be better.\n",
      "\n",
      "Well the good news for us & all future diners, is that standards of the cuisine is truly exceptional, the added bonus is the service that goes with the cuisine, this was also top draw service.\n",
      "\n",
      "Every member of staff was friendly and went out of their way to make this dining experience a fantastic one.\n",
      "\n",
      "Most representative negative sentence:\n",
      "I'm not saying it wasn't good food; it simply wasn't great.\n",
      "\n",
      "Maybe because of that they did not prepare a card of us beforehand (its a small matter but its their little gesture for their guests and it was unfortunate that they were not well prepared).\n",
      "\n",
      "The staff are without exception all excellent and willing to converse.\n",
      "\n",
      "So it shows that they don't really read special requests.\n",
      "\n",
      "Unfortunately it was the staff who really spoilt this for us.\n",
      "\n"
     ]
    }
   ],
   "source": [
    "TextRank(service_list)"
   ]
  },
  {
   "cell_type": "code",
   "execution_count": 33,
   "metadata": {},
   "outputs": [
    {
     "name": "stdout",
     "output_type": "stream",
     "text": [
      "Most representative positive sentence:\n",
      "I had read good reviews, and had high hopes, but nothing had prepared me, or my lovely entourage, for the stunning dining experience that we were about to enjoy.\n",
      "\n",
      "The Ledbury offers diners a truly lovely experience; from the beautiful contemporary decor to the gorgeously plated food and escellent service, it is entirely a fine dining event.\n",
      "\n",
      "Creative and refined cooking, great wine list, spotless service, very friendly staff, nice ambience.\n",
      "\n",
      "Over all this was still a wonderful dining experience!\n",
      "\n",
      "From the wonderful staff, to the relaxed and totally unstuffy atmosphere, to the exquisite food, so beautifully presented, dining here was a joy.\n",
      "\n",
      "Most representative negative sentence:\n",
      "The food styling and plating again were next to none, beautiful and artsy.\n",
      "\n",
      "There was nothing wrong with the dish but it was just not so elegant and delicate as the other dishes.\n",
      "\n",
      "The flavors just missed a bit.\n",
      "\n",
      "A bit stuffy unfortunately.\n",
      "\n"
     ]
    }
   ],
   "source": [
    "TextRank(ambience_list)"
   ]
  },
  {
   "cell_type": "code",
   "execution_count": 34,
   "metadata": {},
   "outputs": [
    {
     "name": "stdout",
     "output_type": "stream",
     "text": [
      "Most representative positive sentence:\n",
      "The food was excellent, though every course seems rather ‘structured’ that I felt less of innovation/wow-factor.\n",
      "\n",
      "Food awesome Place great Service fantastic Overall we enjoyed everything, a bit pricy but its worth it !\n",
      "\n",
      "The food was wonderful and the service even better.\n",
      "\n",
      "In particular the service is very, very, good, something I am appreciating more and more these days.\n",
      "\n",
      "I could name few different restaurants that offer great food and better value for money.\n",
      "\n",
      "Most representative negative sentence:\n",
      "If you are going to eat anywhere and you are looking for unique cuisine and exceptional service then look no further.\n",
      "\n",
      "Fundamentally we found nothing wrong with the meals, presentation was generally very good but there was nothing particularly delicious or extraordinary on the flavour either.\n",
      "\n",
      "Food and wine were exceptional, there is no doubt that Brett Graham would provide nothing below an exceptional level of quality.\n",
      "\n",
      "A bit disappointing in terms of the menu and what you would expect from a 2 star restaurant.\n",
      "\n",
      "Having been to quite a few Michelin * restaurants, this one was disappointing, both from a food quality and wine pairing perspective.\n",
      "\n"
     ]
    }
   ],
   "source": [
    "TextRank(value_list)"
   ]
  },
  {
   "cell_type": "code",
   "execution_count": 35,
   "metadata": {},
   "outputs": [
    {
     "name": "stdout",
     "output_type": "stream",
     "text": [
      "Most representative positive sentence:\n",
      "Even if extremely busy, they made our dining experience feel very special and also kindly permitted us a tour of the kitchen.\n",
      "\n",
      "Every member of staff was friendly and went out of their way to make this dining experience a fantastic one.\n",
      "\n",
      "There is very little to add, except to say this was one of the best - and most memorable - meals we have had.\n",
      "\n",
      "Very pleasant, stylish, comfortable place to sit, but fairly average food which did not come close to experiences of good one star restaurants.\n",
      "\n",
      "Every time we visit the service is fabulous, we are always made to feel welcome.\n",
      "\n",
      "Most representative negative sentence:\n",
      "If this is not in the top world restaurants something is very wrong with the people making the decisions.\n",
      "\n",
      "I'm not saying it wasn't good food; it simply wasn't great.\n",
      "\n",
      "From the moment we walked in until the moment we were shown into a taxi to go home, we could not have been better looked after.\n",
      "\n",
      "At no time were we left waiting for the next course- which has happened in several Michelin starred restaurants before now.\n",
      "\n",
      "However there was no explanation of why they go with the dishes we were eating them with, which we usually get.\n",
      "\n"
     ]
    }
   ],
   "source": [
    "TextRank(others_list)"
   ]
  },
  {
   "cell_type": "code",
   "execution_count": null,
   "metadata": {},
   "outputs": [],
   "source": []
  }
 ],
 "metadata": {
  "kernelspec": {
   "display_name": "Python 3",
   "language": "python",
   "name": "python3"
  },
  "language_info": {
   "codemirror_mode": {
    "name": "ipython",
    "version": 3
   },
   "file_extension": ".py",
   "mimetype": "text/x-python",
   "name": "python",
   "nbconvert_exporter": "python",
   "pygments_lexer": "ipython3",
   "version": "3.7.0"
  }
 },
 "nbformat": 4,
 "nbformat_minor": 2
}
