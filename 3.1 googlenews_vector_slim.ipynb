{
 "cells": [
  {
   "cell_type": "code",
   "execution_count": 1,
   "metadata": {},
   "outputs": [],
   "source": [
    "from gensim.models import Word2Vec\n",
    "from gensim import models"
   ]
  },
  {
   "cell_type": "code",
   "execution_count": 2,
   "metadata": {},
   "outputs": [],
   "source": [
    "model = models.KeyedVectors.load_word2vec_format('data/GoogleNews-vectors-negative300-SLIM.bin', binary=True)\n",
    "#model = Word2Vec.load('cc.en.300.bin')"
   ]
  },
  {
   "cell_type": "code",
   "execution_count": null,
   "metadata": {},
   "outputs": [],
   "source": [
    "model.most_similar(positive=['food'],topn=100)"
   ]
  },
  {
   "cell_type": "code",
   "execution_count": null,
   "metadata": {},
   "outputs": [],
   "source": [
    "model.most_similar(positive=['ambience'],topn=100)"
   ]
  },
  {
   "cell_type": "code",
   "execution_count": 6,
   "metadata": {},
   "outputs": [
    {
     "data": {
      "text/plain": [
       "[('places', 0.5350184440612793),\n",
       " ('spot', 0.5223555564880371),\n",
       " ('placed', 0.4364114999771118),\n",
       " ('finish', 0.40752530097961426),\n",
       " ('spots', 0.38860130310058594),\n",
       " ('where', 0.3795452117919922),\n",
       " ('finishes', 0.37804529070854187),\n",
       " ('standings', 0.3721376061439514),\n",
       " ('round', 0.3720800280570984),\n",
       " ('precedence', 0.3657768666744232),\n",
       " ('someplace', 0.3631856441497803),\n",
       " ('position', 0.35330092906951904),\n",
       " ('leapfrogged', 0.35231339931488037),\n",
       " ('time', 0.346868634223938),\n",
       " ('placing', 0.3452642560005188),\n",
       " ('Finishing', 0.344899982213974),\n",
       " ('in', 0.34340155124664307),\n",
       " ('behind', 0.34279945492744446),\n",
       " ('steps', 0.33938106894493103),\n",
       " ('overall', 0.3379780948162079),\n",
       " ('atop', 0.33152347803115845),\n",
       " ('finishing', 0.33144646883010864),\n",
       " ('location', 0.32734036445617676),\n",
       " ('venue', 0.3263719081878662),\n",
       " ('lead', 0.32579824328422546),\n",
       " ('berth', 0.3233364224433899),\n",
       " ('precautions', 0.323114812374115),\n",
       " ('vault', 0.32173991203308105),\n",
       " ('honors', 0.32144618034362793),\n",
       " ('finished', 0.31972190737724304),\n",
       " ('ahead', 0.3194887638092041),\n",
       " ('the', 0.3176829218864441),\n",
       " ('hold', 0.31465333700180054),\n",
       " ('locale', 0.31414109468460083),\n",
       " ('advantage', 0.31349438428878784),\n",
       " ('put', 0.31008851528167725),\n",
       " ('arrondissement', 0.3086952567100525),\n",
       " ('tied', 0.3057173490524292),\n",
       " ('underway', 0.30441993474960327),\n",
       " ('tie', 0.301277220249176),\n",
       " ('secure', 0.3008847236633301),\n",
       " ('part', 0.3008367419242859),\n",
       " ('refuge', 0.30041515827178955),\n",
       " ('rightful', 0.29956281185150146),\n",
       " ('finishers', 0.2995383143424988),\n",
       " ('reigns', 0.2982345521450043),\n",
       " ('Brickyards', 0.2956997752189636),\n",
       " ('Places', 0.2956848740577698),\n",
       " ('Standings', 0.2955283224582672),\n",
       " ('vaulted', 0.2935045659542084),\n",
       " ('happened', 0.2933405935764313),\n",
       " ('leapfrog', 0.2929089367389679),\n",
       " ('somewhere', 0.292511522769928),\n",
       " ('step', 0.29179519414901733),\n",
       " ('backseat', 0.2913818061351776),\n",
       " ('start', 0.2908238172531128),\n",
       " ('Place', 0.2900521159172058),\n",
       " ('championsip', 0.2898508608341217),\n",
       " ('stage', 0.28876882791519165),\n",
       " ('happen', 0.2877575755119324),\n",
       " ('adrift', 0.28678417205810547),\n",
       " ('woodshed', 0.28677892684936523),\n",
       " ('there', 0.28656908869743347),\n",
       " ('distant', 0.2857730984687805),\n",
       " ('seed', 0.2852516770362854),\n",
       " ('aim', 0.28435152769088745),\n",
       " ('Alencon', 0.28432050347328186),\n",
       " ('eigth', 0.2832443416118622),\n",
       " ('crown', 0.2832305431365967),\n",
       " ('bronze', 0.280342161655426),\n",
       " ('leapfrogging', 0.2802737355232239),\n",
       " (\"runner's\", 0.2801573872566223),\n",
       " ('happening', 0.2798296809196472),\n",
       " ('relegated', 0.277243435382843),\n",
       " ('event', 0.2767389416694641),\n",
       " ('kind', 0.27607643604278564),\n",
       " ('day', 0.27559080719947815),\n",
       " ('finisher', 0.2754959464073181),\n",
       " ('aways', 0.2749868333339691),\n",
       " ('on', 0.2725537419319153),\n",
       " ('win', 0.2724955081939697),\n",
       " ('consideration', 0.27239251136779785),\n",
       " ('shape', 0.2723907232284546),\n",
       " ('occurring', 0.2714720070362091),\n",
       " ('away', 0.2707827091217041),\n",
       " ('events', 0.2692212164402008),\n",
       " ('home', 0.269150972366333),\n",
       " ('Arrondissement', 0.26899459958076477),\n",
       " ('thing', 0.2686800956726074),\n",
       " ('effect', 0.2685094177722931),\n",
       " ('safekeeping', 0.2675386071205139),\n",
       " ('it', 0.2674250304698944),\n",
       " ('way', 0.2671315371990204),\n",
       " ('here', 0.26705771684646606),\n",
       " ('held', 0.2667880654335022),\n",
       " ('action', 0.2665887176990509),\n",
       " ('Loket', 0.26655876636505127),\n",
       " ('chance', 0.2664794921875),\n",
       " ('safe', 0.26622599363327026),\n",
       " ('ensconced', 0.2651549279689789)]"
      ]
     },
     "execution_count": 6,
     "metadata": {},
     "output_type": "execute_result"
    }
   ],
   "source": [
    "model.most_similar(positive=['place'],topn=100)"
   ]
  },
  {
   "cell_type": "code",
   "execution_count": null,
   "metadata": {},
   "outputs": [],
   "source": []
  }
 ],
 "metadata": {
  "kernelspec": {
   "display_name": "Python 3",
   "language": "python",
   "name": "python3"
  },
  "language_info": {
   "codemirror_mode": {
    "name": "ipython",
    "version": 3
   },
   "file_extension": ".py",
   "mimetype": "text/x-python",
   "name": "python",
   "nbconvert_exporter": "python",
   "pygments_lexer": "ipython3",
   "version": "3.7.0"
  }
 },
 "nbformat": 4,
 "nbformat_minor": 2
}
