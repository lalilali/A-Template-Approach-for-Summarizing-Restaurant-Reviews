{
 "cells": [
  {
   "cell_type": "code",
   "execution_count": 1,
   "metadata": {},
   "outputs": [],
   "source": [
    "import numpy as np\n",
    "import pandas as pd\n",
    "import matplotlib.pyplot as plt"
   ]
  },
  {
   "cell_type": "code",
   "execution_count": 2,
   "metadata": {},
   "outputs": [
    {
     "data": {
      "text/html": [
       "<div>\n",
       "<style scoped>\n",
       "    .dataframe tbody tr th:only-of-type {\n",
       "        vertical-align: middle;\n",
       "    }\n",
       "\n",
       "    .dataframe tbody tr th {\n",
       "        vertical-align: top;\n",
       "    }\n",
       "\n",
       "    .dataframe thead th {\n",
       "        text-align: right;\n",
       "    }\n",
       "</style>\n",
       "<table border=\"1\" class=\"dataframe\">\n",
       "  <thead>\n",
       "    <tr style=\"text-align: right;\">\n",
       "      <th></th>\n",
       "      <th>0</th>\n",
       "      <th>1</th>\n",
       "      <th>2</th>\n",
       "      <th>3</th>\n",
       "      <th>4</th>\n",
       "      <th>5</th>\n",
       "      <th>6</th>\n",
       "      <th>7</th>\n",
       "      <th>8</th>\n",
       "      <th>9</th>\n",
       "      <th>...</th>\n",
       "      <th>292</th>\n",
       "      <th>293</th>\n",
       "      <th>294</th>\n",
       "      <th>295</th>\n",
       "      <th>296</th>\n",
       "      <th>297</th>\n",
       "      <th>298</th>\n",
       "      <th>299</th>\n",
       "      <th>class</th>\n",
       "      <th>word</th>\n",
       "    </tr>\n",
       "  </thead>\n",
       "  <tbody>\n",
       "    <tr>\n",
       "      <th>0</th>\n",
       "      <td>-0.181641</td>\n",
       "      <td>0.165039</td>\n",
       "      <td>-0.166016</td>\n",
       "      <td>0.357422</td>\n",
       "      <td>-0.092285</td>\n",
       "      <td>0.201172</td>\n",
       "      <td>-0.054688</td>\n",
       "      <td>-0.261719</td>\n",
       "      <td>-0.172852</td>\n",
       "      <td>-0.080566</td>\n",
       "      <td>...</td>\n",
       "      <td>-0.149414</td>\n",
       "      <td>0.398438</td>\n",
       "      <td>0.092773</td>\n",
       "      <td>0.033936</td>\n",
       "      <td>-0.061523</td>\n",
       "      <td>0.159180</td>\n",
       "      <td>0.127930</td>\n",
       "      <td>0.002228</td>\n",
       "      <td>0</td>\n",
       "      <td>food</td>\n",
       "    </tr>\n",
       "    <tr>\n",
       "      <th>1</th>\n",
       "      <td>0.067871</td>\n",
       "      <td>-0.041260</td>\n",
       "      <td>0.100098</td>\n",
       "      <td>0.058838</td>\n",
       "      <td>0.054443</td>\n",
       "      <td>0.017578</td>\n",
       "      <td>0.072266</td>\n",
       "      <td>-0.091309</td>\n",
       "      <td>0.072266</td>\n",
       "      <td>0.122559</td>\n",
       "      <td>...</td>\n",
       "      <td>-0.150391</td>\n",
       "      <td>0.175781</td>\n",
       "      <td>0.106445</td>\n",
       "      <td>0.157227</td>\n",
       "      <td>-0.113281</td>\n",
       "      <td>0.104492</td>\n",
       "      <td>-0.085449</td>\n",
       "      <td>-0.154297</td>\n",
       "      <td>1</td>\n",
       "      <td>service</td>\n",
       "    </tr>\n",
       "    <tr>\n",
       "      <th>2</th>\n",
       "      <td>0.121094</td>\n",
       "      <td>0.281250</td>\n",
       "      <td>0.106445</td>\n",
       "      <td>0.025635</td>\n",
       "      <td>-0.112305</td>\n",
       "      <td>0.040527</td>\n",
       "      <td>-0.006622</td>\n",
       "      <td>-0.172852</td>\n",
       "      <td>-0.363281</td>\n",
       "      <td>0.142578</td>\n",
       "      <td>...</td>\n",
       "      <td>-0.064941</td>\n",
       "      <td>0.074707</td>\n",
       "      <td>0.118164</td>\n",
       "      <td>0.185547</td>\n",
       "      <td>0.248047</td>\n",
       "      <td>-0.273438</td>\n",
       "      <td>0.072754</td>\n",
       "      <td>0.013489</td>\n",
       "      <td>2</td>\n",
       "      <td>ambience</td>\n",
       "    </tr>\n",
       "    <tr>\n",
       "      <th>3</th>\n",
       "      <td>0.079590</td>\n",
       "      <td>0.018799</td>\n",
       "      <td>0.109375</td>\n",
       "      <td>0.018677</td>\n",
       "      <td>-0.114258</td>\n",
       "      <td>0.120117</td>\n",
       "      <td>0.172852</td>\n",
       "      <td>-0.020630</td>\n",
       "      <td>0.306641</td>\n",
       "      <td>0.267578</td>\n",
       "      <td>...</td>\n",
       "      <td>-0.166016</td>\n",
       "      <td>-0.080078</td>\n",
       "      <td>0.144531</td>\n",
       "      <td>0.398438</td>\n",
       "      <td>0.064453</td>\n",
       "      <td>-0.066406</td>\n",
       "      <td>0.073242</td>\n",
       "      <td>-0.188477</td>\n",
       "      <td>3</td>\n",
       "      <td>value</td>\n",
       "    </tr>\n",
       "    <tr>\n",
       "      <th>4</th>\n",
       "      <td>-0.026855</td>\n",
       "      <td>0.081055</td>\n",
       "      <td>-0.171875</td>\n",
       "      <td>0.227539</td>\n",
       "      <td>-0.141602</td>\n",
       "      <td>0.040527</td>\n",
       "      <td>0.229492</td>\n",
       "      <td>-0.227539</td>\n",
       "      <td>-0.332031</td>\n",
       "      <td>0.131836</td>\n",
       "      <td>...</td>\n",
       "      <td>-0.174805</td>\n",
       "      <td>-0.055176</td>\n",
       "      <td>0.197266</td>\n",
       "      <td>0.199219</td>\n",
       "      <td>-0.361328</td>\n",
       "      <td>0.101074</td>\n",
       "      <td>0.142578</td>\n",
       "      <td>0.281250</td>\n",
       "      <td>0</td>\n",
       "      <td>foodstuff</td>\n",
       "    </tr>\n",
       "  </tbody>\n",
       "</table>\n",
       "<p>5 rows × 302 columns</p>\n",
       "</div>"
      ],
      "text/plain": [
       "          0         1         2         3         4         5         6  \\\n",
       "0 -0.181641  0.165039 -0.166016  0.357422 -0.092285  0.201172 -0.054688   \n",
       "1  0.067871 -0.041260  0.100098  0.058838  0.054443  0.017578  0.072266   \n",
       "2  0.121094  0.281250  0.106445  0.025635 -0.112305  0.040527 -0.006622   \n",
       "3  0.079590  0.018799  0.109375  0.018677 -0.114258  0.120117  0.172852   \n",
       "4 -0.026855  0.081055 -0.171875  0.227539 -0.141602  0.040527  0.229492   \n",
       "\n",
       "          7         8         9    ...           292       293       294  \\\n",
       "0 -0.261719 -0.172852 -0.080566    ...     -0.149414  0.398438  0.092773   \n",
       "1 -0.091309  0.072266  0.122559    ...     -0.150391  0.175781  0.106445   \n",
       "2 -0.172852 -0.363281  0.142578    ...     -0.064941  0.074707  0.118164   \n",
       "3 -0.020630  0.306641  0.267578    ...     -0.166016 -0.080078  0.144531   \n",
       "4 -0.227539 -0.332031  0.131836    ...     -0.174805 -0.055176  0.197266   \n",
       "\n",
       "        295       296       297       298       299  class       word  \n",
       "0  0.033936 -0.061523  0.159180  0.127930  0.002228      0       food  \n",
       "1  0.157227 -0.113281  0.104492 -0.085449 -0.154297      1    service  \n",
       "2  0.185547  0.248047 -0.273438  0.072754  0.013489      2   ambience  \n",
       "3  0.398438  0.064453 -0.066406  0.073242 -0.188477      3      value  \n",
       "4  0.199219 -0.361328  0.101074  0.142578  0.281250      0  foodstuff  \n",
       "\n",
       "[5 rows x 302 columns]"
      ]
     },
     "execution_count": 2,
     "metadata": {},
     "output_type": "execute_result"
    }
   ],
   "source": [
    "df = pd.read_csv('250google_vector.csv')\n",
    "df.head()"
   ]
  },
  {
   "cell_type": "code",
   "execution_count": 3,
   "metadata": {},
   "outputs": [],
   "source": [
    "from sklearn.model_selection import cross_val_score\n",
    "from sklearn.model_selection import train_test_split\n",
    "from sklearn.neighbors import KNeighborsClassifier"
   ]
  },
  {
   "cell_type": "code",
   "execution_count": 4,
   "metadata": {},
   "outputs": [],
   "source": [
    "X=df.iloc[:,0:300].values.tolist()\n",
    "y=df.iloc[:,300].values.tolist()"
   ]
  },
  {
   "cell_type": "code",
   "execution_count": 8,
   "metadata": {},
   "outputs": [],
   "source": [
    "knn = KNeighborsClassifier(n_neighbors=22)"
   ]
  },
  {
   "cell_type": "code",
   "execution_count": 9,
   "metadata": {},
   "outputs": [
    {
     "name": "stdout",
     "output_type": "stream",
     "text": [
      "0.835\n",
      "22\n"
     ]
    }
   ],
   "source": [
    "k_range = range(1,31)\n",
    "k_scores = []\n",
    "max=0\n",
    "max_number=0\n",
    "for k_number in k_range:\n",
    "    knn = KNeighborsClassifier(n_neighbors=k_number)\n",
    "    scores = cross_val_score(knn,X,y,cv=10,scoring='accuracy')\n",
    "    k_scores.append(scores.mean())\n",
    "    if scores.mean() > max:\n",
    "        max=scores.mean()\n",
    "        max_number = k_number\n",
    "print(max)\n",
    "print(max_number)"
   ]
  },
  {
   "cell_type": "code",
   "execution_count": 7,
   "metadata": {},
   "outputs": [
    {
     "data": {
      "image/png": "[encoded data removed]",
      "text/plain": [
       "<Figure size 432x288 with 1 Axes>"
      ]
     },
     "metadata": {
      "needs_background": "light"
     },
     "output_type": "display_data"
    }
   ],
   "source": [
    "plt.plot(k_range,k_scores)\n",
    "plt.xlabel('Value of K for KNN')\n",
    "plt.ylabel('Cross-Validated Accuracy')\n",
    "plt.show()"
   ]
  },
  {
   "cell_type": "code",
   "execution_count": null,
   "metadata": {},
   "outputs": [],
   "source": []
  }
 ],
 "metadata": {
  "kernelspec": {
   "display_name": "Python 3",
   "language": "python",
   "name": "python3"
  },
  "language_info": {
   "codemirror_mode": {
    "name": "ipython",
    "version": 3
   },
   "file_extension": ".py",
   "mimetype": "text/x-python",
   "name": "python",
   "nbconvert_exporter": "python",
   "pygments_lexer": "ipython3",
   "version": "3.7.0"
  }
 },
 "nbformat": 4,
 "nbformat_minor": 2
}
