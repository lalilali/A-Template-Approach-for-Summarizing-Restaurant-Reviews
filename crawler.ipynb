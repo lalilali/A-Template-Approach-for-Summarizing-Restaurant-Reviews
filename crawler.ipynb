{
 "cells": [
  {
   "cell_type": "code",
   "execution_count": 8,
   "metadata": {},
   "outputs": [],
   "source": [
    "#爬蟲功能\n",
    "#從tripadvosor網站中爬出評論\n",
    "from urllib.request import urlopen\n",
    "from bs4 import BeautifulSoup"
   ]
  },
  {
   "cell_type": "code",
   "execution_count": 9,
   "metadata": {},
   "outputs": [],
   "source": [
    "html = urlopen(\"https://www.tripadvisor.com/Restaurant_Review-g60763-d3163891-Reviews-Serafina_77th_Upper_West-New_York_City_New_York.html\")\n",
    "bsObj = BeautifulSoup(html,'html.parser')"
   ]
  },
  {
   "cell_type": "code",
   "execution_count": 10,
   "metadata": {},
   "outputs": [],
   "source": [
    "#查看總共有幾頁\n",
    "# totalreview = bsObj.find(\"div\",{\"class\":\"pagination-details\"}).findAll(\"b\")[2].get_text()\n",
    "# #超過1000會有1,000\n",
    "# totalreview = int(totalreview.split()[0].replace(',', ''))\n",
    "# page = totalreview/10+1\n",
    "# pages= int(page)"
   ]
  },
  {
   "cell_type": "code",
   "execution_count": 11,
   "metadata": {},
   "outputs": [],
   "source": [
    "# -*- coding: utf-8 -*-\n",
    "#檢查是否符合分句子標準\n",
    "import re\n",
    "alphabets= \"([A-Za-z])\"\n",
    "prefixes = \"(Mr|St|Mrs|Ms|Dr)[.]\"\n",
    "suffixes = \"(Inc|Ltd|Jr|Sr|Co)\"\n",
    "starters = \"(Mr|Mrs|Ms|Dr|He\\s|She\\s|It\\s|They\\s|Their\\s|Our\\s|We\\s|But\\s|However\\s|That\\s|This\\s|Wherever)\"\n",
    "acronyms = \"([A-Z][.][A-Z][.](?:[A-Z][.])?)\"\n",
    "websites = \"[.](com|net|org|io|gov)\"\n",
    "digits = \"([0-9])\"\n",
    "def split_into_sentences(text):\n",
    "    text = \" \" + text + \"  \"\n",
    "    text = text.replace(\"\\n\",\" \")\n",
    "    text = re.sub(prefixes,\"\\\\1<prd>\",text)\n",
    "    text = re.sub(websites,\"<prd>\\\\1\",text)\n",
    "    if \"Ph.D\" in text: text = text.replace(\"Ph.D.\",\"Ph<prd>D<prd>\")\n",
    "    if \"...\" in text: text = text.replace(\"...\",\"<prd><prd><prd>\")\n",
    "    text = re.sub(\"\\s\" + alphabets + \"[.] \",\" \\\\1<prd> \",text)\n",
    "    text = re.sub(acronyms+\" \"+starters,\"\\\\1<stop> \\\\2\",text)\n",
    "    text = re.sub(alphabets + \"[.]\" + alphabets + \"[.]\" + alphabets + \"[.]\",\"\\\\1<prd>\\\\2<prd>\\\\3<prd>\",text)\n",
    "    text = re.sub(alphabets + \"[.]\" + alphabets + \"[.]\",\"\\\\1<prd>\\\\2<prd>\",text)\n",
    "    text = re.sub(\" \"+suffixes+\"[.] \"+starters,\" \\\\1<stop> \\\\2\",text)\n",
    "    text = re.sub(\" \"+suffixes+\"[.]\",\" \\\\1<prd>\",text)\n",
    "    text = re.sub(\" \" + alphabets + \"[.]\",\" \\\\1<prd>\",text)\n",
    "    text = re.sub(digits + \"[.]\" + digits,\"\\\\1<prd>\\\\2\",text)\n",
    "    text = re.sub(r'!+',\"!\",text)\n",
    "    text = re.sub(r'\\?+',\"?\",text)\n",
    "    if \"”\" in text: text = text.replace(\".”\",\"”.\")\n",
    "    if \"\\\"\" in text: text = text.replace(\".\\\"\",\"\\\".\")\n",
    "    if \"!\" in text: text = text.replace(\"!\\\"\",\"\\\"!\")\n",
    "    if \"?\" in text: text = text.replace(\"?\\\"\",\"\\\"?\")\n",
    "    text = text.replace(\"!?\",\"?\")\n",
    "    text = text.replace(\"?!\",\"!\")\n",
    "    text = text.replace(\"..\",\".\")\n",
    "    text = text.replace(\".\",\".<stop>\")\n",
    "    text = text.replace(\"?\",\"?<stop>\")\n",
    "    text = text.replace(\"!\",\"!<stop>\")\n",
    "    text = text.replace(\"<prd>\",\".\")\n",
    "    sentences = text.split(\"<stop>\")\n",
    "    sentences = sentences[:-1]\n",
    "    sentences = [s.strip() for s in sentences]\n",
    "    return sentences"
   ]
  },
  {
   "cell_type": "code",
   "execution_count": 14,
   "metadata": {},
   "outputs": [],
   "source": [
    "def write(string):\n",
    "    with open('./original_review_sets/review'+str(count)+'.txt','w', encoding = 'UTF8') as f :  #存入哪個資料夾\n",
    "        f.write(string)\n",
    "        f.close()"
   ]
  },
  {
   "cell_type": "code",
   "execution_count": null,
   "metadata": {},
   "outputs": [],
   "source": [
    "index=''\n",
    "count=1 #1\n",
    "for x in range (20):#pages 20頁=200則評論\n",
    "    if(x==0):\n",
    "        index='-'\n",
    "    else:\n",
    "        index=\"-or\"+str(x*10)+'-'\n",
    "    url2 = \"https://www.tripadvisor.com/Restaurant_Review-g60763-d3163891-Reviews\"+index+\"Serafina_77th_Upper_West-New_York_City_New_York.html\"\n",
    "    html = urlopen(url2)\n",
    "    bsObj = BeautifulSoup(html,'html.parser')\n",
    "    reviewlist = bsObj.findAll(\"div\",{\"class\":\"review-container\"})\n",
    "    for review in reviewlist:\n",
    "        url = review.find(\"a\",{\"class\":\"title\"})\n",
    "        head = \"https://www.tripadvisor.com/\"\n",
    "        tail = url.get(\"href\")\n",
    "        html2 = urlopen(head+tail)\n",
    "        bsObj = BeautifulSoup(html2,'html.parser')\n",
    "\n",
    "        string = bsObj.find(\"p\",{\"class\":\"partial_entry\"}).get_text()\n",
    "        \n",
    "        string_list = split_into_sentences(string) #split the text into sentences\n",
    "        for x in range(len(string_list)):\n",
    "            string = string_list[x]\n",
    "            write(string)\n",
    "            count+=1\n",
    "\n"
   ]
  },
  {
   "cell_type": "code",
   "execution_count": null,
   "metadata": {},
   "outputs": [],
   "source": []
  }
 ],
 "metadata": {
  "kernelspec": {
   "display_name": "Python 3",
   "language": "python",
   "name": "python3"
  },
  "language_info": {
   "codemirror_mode": {
    "name": "ipython",
    "version": 3
   },
   "file_extension": ".py",
   "mimetype": "text/x-python",
   "name": "python",
   "nbconvert_exporter": "python",
   "pygments_lexer": "ipython3",
   "version": "3.7.0"
  }
 },
 "nbformat": 4,
 "nbformat_minor": 2
}
