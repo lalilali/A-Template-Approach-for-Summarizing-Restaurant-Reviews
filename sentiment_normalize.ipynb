{
 "cells": [
  {
   "cell_type": "code",
   "execution_count": 1,
   "metadata": {},
   "outputs": [],
   "source": [
    "positive_sentiment = [88.6,93.9,91.9,87.7,86.4,84.7,\n",
    "                      70.2,82.1,69.6,81.8,70.1,63.9,\n",
    "                      73.5,78.8,71.1,89.5,72.5,69.1,\n",
    "                      76.1,86.3,72.6,89.6,72.2,70.6,\n",
    "                      90.2,92.1,90.2,97.1,89.1,87.9]\n",
    "negative_sentiment = [11.4,6.1,8.1,12.3,13.6,15.3,\n",
    "                      29.8,17.9,30.4,18.2,29.9,36.1,\n",
    "                      26.5,21.2,28.9,10.5,27.5,30.9,\n",
    "                      23.9,13.7,27.4,10.4,27.8,29.4,\n",
    "                      9.8,7.9,9.8,2.9,10.9,12.1]\n",
    "positve_average=max(positive_sentiment)-min(positive_sentiment)\n",
    "negative_average=max(negative_sentiment)-min(negative_sentiment)"
   ]
  },
  {
   "cell_type": "code",
   "execution_count": 2,
   "metadata": {},
   "outputs": [
    {
     "name": "stdout",
     "output_type": "stream",
     "text": [
      "positive:\n",
      "0.7439759036144578\n",
      "0.9036144578313257\n",
      "0.8433734939759039\n",
      "0.7168674698795183\n",
      "0.6777108433734943\n",
      "0.6265060240963858\n",
      "neagtive:\n",
      "0.25602409638554213\n",
      "0.09638554216867468\n",
      "0.15662650602409636\n",
      "0.2831325301204819\n",
      "0.322289156626506\n",
      "0.37349397590361444\n"
     ]
    }
   ],
   "source": [
    "print(\"positive:\")\n",
    "for x in range(0,6):\n",
    "    print((positive_sentiment[x]-min(positive_sentiment))/positve_average)\n",
    "print(\"neagtive:\")\n",
    "for x in range(0,6):\n",
    "    print((negative_sentiment[x]-min(negative_sentiment))/negative_average)"
   ]
  },
  {
   "cell_type": "code",
   "execution_count": 4,
   "metadata": {},
   "outputs": [
    {
     "name": "stdout",
     "output_type": "stream",
     "text": [
      "positive:\n",
      "0.18975903614457845\n",
      "0.5481927710843373\n",
      "0.1716867469879517\n",
      "0.5391566265060241\n",
      "0.18674698795180714\n",
      "0.0\n",
      "neagtive:\n",
      "0.8102409638554217\n",
      "0.45180722891566255\n",
      "0.8283132530120482\n",
      "0.4608433734939758\n",
      "0.8132530120481927\n",
      "1.0\n"
     ]
    }
   ],
   "source": [
    "print(\"positive:\")\n",
    "for x in range(6,12):\n",
    "    print((positive_sentiment[x]-min(positive_sentiment))/positve_average)\n",
    "print(\"neagtive:\")\n",
    "for x in range(6,12):\n",
    "    print((negative_sentiment[x]-min(negative_sentiment))/negative_average)"
   ]
  },
  {
   "cell_type": "code",
   "execution_count": 5,
   "metadata": {},
   "outputs": [
    {
     "name": "stdout",
     "output_type": "stream",
     "text": [
      "positive:\n",
      "0.2891566265060242\n",
      "0.4487951807228916\n",
      "0.21686746987951797\n",
      "0.7710843373493977\n",
      "0.2590361445783133\n",
      "0.15662650602409628\n",
      "neagtive:\n",
      "0.7108433734939759\n",
      "0.5512048192771084\n",
      "0.7831325301204819\n",
      "0.22891566265060237\n",
      "0.7409638554216867\n",
      "0.8433734939759036\n"
     ]
    }
   ],
   "source": [
    "print(\"positive:\")\n",
    "for x in range(12,18):\n",
    "    print((positive_sentiment[x]-min(positive_sentiment))/positve_average)\n",
    "print(\"neagtive:\")\n",
    "for x in range(12,18):\n",
    "    print((negative_sentiment[x]-min(negative_sentiment))/negative_average)"
   ]
  },
  {
   "cell_type": "code",
   "execution_count": 6,
   "metadata": {},
   "outputs": [
    {
     "name": "stdout",
     "output_type": "stream",
     "text": [
      "positive:\n",
      "0.3674698795180722\n",
      "0.674698795180723\n",
      "0.26204819277108427\n",
      "0.7740963855421686\n",
      "0.25000000000000017\n",
      "0.20180722891566255\n",
      "neagtive:\n",
      "0.6325301204819277\n",
      "0.32530120481927705\n",
      "0.7379518072289156\n",
      "0.2259036144578313\n",
      "0.75\n",
      "0.7981927710843373\n"
     ]
    }
   ],
   "source": [
    "print(\"positive:\")\n",
    "for x in range(18,24):\n",
    "    print((positive_sentiment[x]-min(positive_sentiment))/positve_average)\n",
    "print(\"neagtive:\")\n",
    "for x in range(18,24):\n",
    "    print((negative_sentiment[x]-min(negative_sentiment))/negative_average)"
   ]
  },
  {
   "cell_type": "code",
   "execution_count": 7,
   "metadata": {},
   "outputs": [
    {
     "name": "stdout",
     "output_type": "stream",
     "text": [
      "positive:\n",
      "0.7921686746987954\n",
      "0.8493975903614458\n",
      "0.7921686746987954\n",
      "1.0\n",
      "0.7590361445783133\n",
      "0.7228915662650606\n",
      "neagtive:\n",
      "0.20783132530120482\n",
      "0.1506024096385542\n",
      "0.20783132530120482\n",
      "0.0\n",
      "0.24096385542168672\n",
      "0.2771084337349397\n"
     ]
    }
   ],
   "source": [
    "print(\"positive:\")\n",
    "for x in range(24,30):\n",
    "    print((positive_sentiment[x]-min(positive_sentiment))/positve_average)\n",
    "print(\"neagtive:\")\n",
    "for x in range(24,30):\n",
    "    print((negative_sentiment[x]-min(negative_sentiment))/negative_average)"
   ]
  },
  {
   "cell_type": "code",
   "execution_count": null,
   "metadata": {},
   "outputs": [],
   "source": []
  }
 ],
 "metadata": {
  "kernelspec": {
   "display_name": "Python 3",
   "language": "python",
   "name": "python3"
  },
  "language_info": {
   "codemirror_mode": {
    "name": "ipython",
    "version": 3
   },
   "file_extension": ".py",
   "mimetype": "text/x-python",
   "name": "python",
   "nbconvert_exporter": "python",
   "pygments_lexer": "ipython3",
   "version": "3.7.0"
  }
 },
 "nbformat": 4,
 "nbformat_minor": 2
}
