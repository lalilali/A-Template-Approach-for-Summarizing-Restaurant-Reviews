{
 "cells": [
  {
   "cell_type": "code",
   "execution_count": 1,
   "metadata": {},
   "outputs": [],
   "source": [
    "import numpy as np\n",
    "import pandas as pd\n",
    "import matplotlib.pyplot as plt"
   ]
  },
  {
   "cell_type": "code",
   "execution_count": 2,
   "metadata": {},
   "outputs": [],
   "source": [
    "from nltk.corpus import stopwords\n",
    "#大眾形容詞加入停用詞\n",
    "adj_list=[\"good\",\"great\",\"best\",\"nice\",\"bad\",\"worse\",\"worst\",\"well\",\"cool\",\"excellent\",\"restaurant\"]\n",
    "#大寫的停用詞加入\n",
    "stop_words_list=stopwords.words('english')+adj_list\n",
    "for x in range(len(stop_words_list)):\n",
    "    stop_words_list[x]=stop_words_list[x].title()\n",
    "#全部的停用詞\n",
    "stop_words = set(stopwords.words('english')+stop_words_list+adj_list)"
   ]
  },
  {
   "cell_type": "code",
   "execution_count": 3,
   "metadata": {},
   "outputs": [],
   "source": [
    "import re\n",
    "import nltk\n",
    "def preprocess(string):\n",
    "    #去除英文以外\n",
    "    string = re.sub(r'[^A-Za-z]+', ' ', string)\n",
    "    #去除前後空格\n",
    "    string = string.strip()\n",
    "    return string\n",
    "def stopword_removal_append(string):    \n",
    "    words = string.split()\n",
    "    for r in words: \n",
    "        if not r in stop_words: \n",
    "            with open('./datasets/dataset'+str(count)+'.txt','a', encoding = 'UTF8') as f1 : \n",
    "                f1.write(r+\" \") \n",
    "                f1.close()"
   ]
  },
  {
   "cell_type": "code",
   "execution_count": 4,
   "metadata": {},
   "outputs": [
    {
     "data": {
      "text/html": [
       "<div>\n",
       "<style scoped>\n",
       "    .dataframe tbody tr th:only-of-type {\n",
       "        vertical-align: middle;\n",
       "    }\n",
       "\n",
       "    .dataframe tbody tr th {\n",
       "        vertical-align: top;\n",
       "    }\n",
       "\n",
       "    .dataframe thead th {\n",
       "        text-align: right;\n",
       "    }\n",
       "</style>\n",
       "<table border=\"1\" class=\"dataframe\">\n",
       "  <thead>\n",
       "    <tr style=\"text-align: right;\">\n",
       "      <th></th>\n",
       "      <th>Testdata</th>\n",
       "      <th>topic</th>\n",
       "    </tr>\n",
       "  </thead>\n",
       "  <tbody>\n",
       "    <tr>\n",
       "      <th>0</th>\n",
       "      <td>Best tasting and quality food.</td>\n",
       "      <td>0</td>\n",
       "    </tr>\n",
       "    <tr>\n",
       "      <th>1</th>\n",
       "      <td>Moreover, food is so nice, delicious!!</td>\n",
       "      <td>0</td>\n",
       "    </tr>\n",
       "    <tr>\n",
       "      <th>2</th>\n",
       "      <td>Our dishes came quickly and all our big, thick...</td>\n",
       "      <td>0</td>\n",
       "    </tr>\n",
       "    <tr>\n",
       "      <th>3</th>\n",
       "      <td>The martinis were not skimpy, and the mutton c...</td>\n",
       "      <td>0</td>\n",
       "    </tr>\n",
       "    <tr>\n",
       "      <th>4</th>\n",
       "      <td>We also enjoyed the carrot cake for dessert.</td>\n",
       "      <td>0</td>\n",
       "    </tr>\n",
       "  </tbody>\n",
       "</table>\n",
       "</div>"
      ],
      "text/plain": [
       "                                            Testdata  topic\n",
       "0                     Best tasting and quality food.      0\n",
       "1             Moreover, food is so nice, delicious!!      0\n",
       "2  Our dishes came quickly and all our big, thick...      0\n",
       "3  The martinis were not skimpy, and the mutton c...      0\n",
       "4       We also enjoyed the carrot cake for dessert.      0"
      ]
     },
     "execution_count": 4,
     "metadata": {},
     "output_type": "execute_result"
    }
   ],
   "source": [
    "df = pd.read_excel ('testdata.xlsx')\n",
    "#df.values[0][0]\n",
    "df.head()"
   ]
  },
  {
   "cell_type": "code",
   "execution_count": 5,
   "metadata": {},
   "outputs": [],
   "source": [
    "count=1\n",
    "for x in range(250):\n",
    "    string = df.values[x][0]\n",
    "    string = preprocess(string)\n",
    "    string = string[0].lower() + string[1:]\n",
    "    stopword_removal_append(string)\n",
    "    count+=1"
   ]
  },
  {
   "cell_type": "code",
   "execution_count": null,
   "metadata": {},
   "outputs": [],
   "source": []
  }
 ],
 "metadata": {
  "kernelspec": {
   "display_name": "Python 3",
   "language": "python",
   "name": "python3"
  },
  "language_info": {
   "codemirror_mode": {
    "name": "ipython",
    "version": 3
   },
   "file_extension": ".py",
   "mimetype": "text/x-python",
   "name": "python",
   "nbconvert_exporter": "python",
   "pygments_lexer": "ipython3",
   "version": "3.7.0"
  }
 },
 "nbformat": 4,
 "nbformat_minor": 2
}
