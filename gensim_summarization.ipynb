{
 "cells": [
  {
   "cell_type": "code",
   "execution_count": 1,
   "metadata": {},
   "outputs": [],
   "source": [
    "#使用gensim得到摘要\n",
    "import numpy as np\n",
    "import pandas as pd"
   ]
  },
  {
   "cell_type": "code",
   "execution_count": 2,
   "metadata": {},
   "outputs": [],
   "source": [
    "string = ''\n",
    "reviews = 1291 #要隨著reviews筆數更改\n",
    "for x in range(1,reviews+1): #總共1~reviews+1 \n",
    "    df = pd.read_csv('original_review_sets/review'+str(x)+'.txt', sep='@', header=None,quoting=3)\n",
    "    string += df.values.tolist()[0][0]\n",
    "    string +='\\n'"
   ]
  },
  {
   "cell_type": "code",
   "execution_count": 3,
   "metadata": {},
   "outputs": [],
   "source": [
    "restaurant = 'Beas of Bloomsbury'\n",
    "with open('./total_reviews/'+restaurant+'.txt','w', encoding = 'UTF8') as f1 :\n",
    "            f1.write(string)"
   ]
  },
  {
   "cell_type": "code",
   "execution_count": 4,
   "metadata": {},
   "outputs": [],
   "source": [
    "from gensim.summarization.summarizer import summarize"
   ]
  },
  {
   "cell_type": "code",
   "execution_count": 5,
   "metadata": {},
   "outputs": [
    {
     "name": "stdout",
     "output_type": "stream",
     "text": [
      "The scones were excellent, the tea served nicely with great service.\n",
      "Very nice and attentive staff and we loved the tea and treats - the baked goods in particular were delicious and fresh.\n",
      "The staff are very friendly and the location is excellent being close to Euston Rd and the University and British Museum and British LibraryThe decor is attractive and I can imagine is attractive for those who like to send pictures of places that they re eating at and what they are havingWe had the Afternoon teaIt focussed more on the cakes than the sandwiches,Cakes were rich and of the mass produced type,nothing like the quality that is commonplace in the North of England,but perhaps commonplace for London.\n",
      "Scone not as good as you would make at home but jam dn cream were qualityTea and coffee were good quality and china was clean and attractiveCost quoted as £30 each but husband paid for the three of us and told me afterwards that it came to £106 so we weren't sure whether we have been overcharged as we were given the impression that tea and coffee was included and unlimited.\n",
      "We had a salad, a sandwich and a couple of cheeky glasses of Prosecco The staff in there were very friendly and polite and I loved the quaint feel of the place.\n",
      "The tea was delicious, the sandwiches were great, and the sweets (caramel brownie, red velvet cake) we decadently good.\n",
      "I was very disappointed to receive a teabag accompaniment to an afternoon tea menu - if I was eating in a cafe or a basic coffee shop, I wouldn’t be disappointed but to getting a teabag in a nice establishment was very surprising!\n",
      "The scones were of bad quality, the cakes were not good either and the choice limited to American coffee shop stuff like cupcakes and brownies.\n",
      "They took our order and asked whether my friend's son would like a sandwich too which we thought was sweet and not only did he get a sandwich but he got his very own three tear mini afternoon tea set which was absolutely stunning and very very thoughtful!\n",
      "I would definitely go back to enjoy their tea selection and array of cakes and sandwiches especially because the staff are so warm and welcoming!\n",
      "The afternoon was a triumph: a selection of tasty sandwiches, a divine scone with strawberry jam and clotted cream, and five delicious sweet treats.\n",
      "The shop has some excellent cupcakes on offer and gluten free ones as well, along with an excellent selection of Pastries, and Carrot, Guinness cakes and my favourite Duffins (Doughnut and Muffin) combined, so for me it was a pot of Earl Grey Tea and a Duffin, my partner settled for a slice of Guinness cake and an English Breakfast Tea. The shop is very bright, clean and the staff have been very well trained by the manager as they were very attentive and knowledgeable.\n",
      "Well done Tony and the team for making my Saturday afternoon Tea and Cake a most enjoyable one, I’ll definitely recommend Bea’s of Bloomsbury to my “sweet toothed” friends and family.\n",
      "- stale sandwiches- poor service- dry cake- cut open a tea bag to put it in a pot.\n",
      "Every time I visit with my friend in London we try a new afternoon tea.\n",
      "The service is always very friendly and welcoming - would recommend for afternoon tea and for occasion cakes.\n",
      "Bea’s serves an excellent cream tea, lunch sandwiches, and salads as well as an assortment of cookies, cupcakes, and sweet breads.\n",
      "I can’t quite believe how this gets recommended on so many websites as one of the best places for afternoon tea in London.\n",
      "I suspect the reviewers saying that don't know that many many places charge twice Bea's prices for afternoon tea!\n",
      "We made the most of Bea's summer offer on their Golden Afternoon tea - three tiers of brioche, cupcakes, scones - with clotted cream and jam obviously - meringues, brownies, blondies and other delights!\n",
      "Bea's of Bloomsbury is a perfect place to have a nice afternoon tea.\n",
      "Staff is nice and friendly, tea is good and food amazing.\n",
      "In terms of value for money, if you disregard the service issues and focus purely on the food, it was good value at about half the price of a hotel afternoon tea.\n",
      "We went to this place to have the afternoon tea experience while on our trip to UK but were disappointed.\n",
      "In my nervous, albeit last-minute search for a nice place for the traditional afternoon tea in London, I came across Bea's of Bloomsbury.\n",
      "We booked our very first afternoon tea with my friend in this place and we were so disappointed!\n",
      "We booked this place as we thought it looked nice online and was reasonably priced for afternoon tea in London.\n",
      "I find Bea's a great place for a tea that's a bit different and of course the sweets are delicious.\n",
      "No refills of food were offered (not that we needed them but every other afternoon tea I have taken has always included the offer of more sandwiches or cakes/scones).\n",
      "I have had several afternoon teas at various places before which I have enjoyed much more with a much nicer selection of cakes!\n",
      "The afternoon tea was good, but the staff could be more attentive and service-minded!\n",
      "Sadly it was a disappointing experience and one I could not recommend for special occasions or afternoon teas...The food itself was mediocre with the scones being very dry, blondies raw in the middle and cupcakes average.\n",
      "You can find wonderful places for afternoon tea in London and you can also find good places for gluten free cakes and scones.\n",
      "However, it is rare to find a proper gluten free afternoon tea, complete with sandwiches, cakes and scones.\n",
      "Lovely place for a cup of tea and cake.\n",
      "After reading several good reviews for Bea's we took some friends for afternoon tea.\n",
      "It looks like a cute cafe with a nice selection of items but I really didn't enjoy the afternoon tea at all.\n"
     ]
    }
   ],
   "source": [
    "print(summarize(string,word_count = 1000))"
   ]
  },
  {
   "cell_type": "code",
   "execution_count": null,
   "metadata": {},
   "outputs": [],
   "source": []
  }
 ],
 "metadata": {
  "kernelspec": {
   "display_name": "Python 3",
   "language": "python",
   "name": "python3"
  },
  "language_info": {
   "codemirror_mode": {
    "name": "ipython",
    "version": 3
   },
   "file_extension": ".py",
   "mimetype": "text/x-python",
   "name": "python",
   "nbconvert_exporter": "python",
   "pygments_lexer": "ipython3",
   "version": "3.7.0"
  }
 },
 "nbformat": 4,
 "nbformat_minor": 2
}
