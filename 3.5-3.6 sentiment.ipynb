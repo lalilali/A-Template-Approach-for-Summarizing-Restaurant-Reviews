{
 "cells": [
  {
   "cell_type": "code",
   "execution_count": 1,
   "metadata": {},
   "outputs": [],
   "source": [
    "#算出句子的情緒分數百分比\n",
    "import numpy as np\n",
    "import pandas as pd\n",
    "import matplotlib.pyplot as plt"
   ]
  },
  {
   "cell_type": "code",
   "execution_count": 2,
   "metadata": {},
   "outputs": [],
   "source": [
    "from vaderSentiment.vaderSentiment import SentimentIntensityAnalyzer\n",
    "analyser = SentimentIntensityAnalyzer()"
   ]
  },
  {
   "cell_type": "code",
   "execution_count": 3,
   "metadata": {},
   "outputs": [],
   "source": [
    "def sentiment_analyzer_scores(sentence):\n",
    "    score = analyser.polarity_scores(sentence)\n",
    "    #print(\"{:-<40} {}\".format(sentence, str(score)))\n",
    "    #print(score)\n",
    "    \n",
    "    # decide sentiment as positive, negative and neutral \n",
    "    if score['compound'] >= 0.05 : \n",
    "        #print(\"Positive\") \n",
    "        counter[0]+=1\n",
    "    elif score['compound'] <= - 0.05 : \n",
    "        #print(\"Negative\") \n",
    "        counter[1]+=1\n",
    "    #else : \n",
    "        #print(\"Neutral\")"
   ]
  },
  {
   "cell_type": "code",
   "execution_count": 33,
   "metadata": {},
   "outputs": [],
   "source": [
    "counter = [0,0] #[0] for positive [1] for negative\n",
    "total_counter =[0,0] #[0] for positive [1] for negative\n",
    "#Load Data\n",
    "df = pd.read_csv('classify_reviews/food_topic.csv')\n",
    "food_list = df['0'].values.tolist()\n",
    "\n",
    "df = pd.read_csv('classify_reviews/service_topic.csv')\n",
    "service_list = df['0'].values.tolist()\n",
    "\n",
    "df = pd.read_csv('classify_reviews/ambience_topic.csv')\n",
    "ambience_list = df['0'].values.tolist()\n",
    "\n",
    "df = pd.read_csv('classify_reviews/value_topic.csv')\n",
    "value_list = df['0'].values.tolist()\n",
    "\n",
    "df = pd.read_csv('classify_reviews/others_topic.csv')\n",
    "others_list = df['0'].values.tolist()"
   ]
  },
  {
   "cell_type": "code",
   "execution_count": 5,
   "metadata": {},
   "outputs": [],
   "source": [
    "def print_score(topic_list):\n",
    "    counter[0]=0\n",
    "    counter[1]=0 #initialize\n",
    "    for x in topic_list:\n",
    "        df = pd.read_csv('original_review_sets/'+x+'.txt', sep='@',header=None,quoting=3)#sep要有隨便東西 不然預設逗號間隔\n",
    "        df = df.dropna(axis=1)\n",
    "        string_list = df.values.tolist()[0]\n",
    "        string =  string_list[0]\n",
    "        sentiment_analyzer_scores(string)\n",
    "    p_count=counter[0]\n",
    "    total_counter[0]+=p_count\n",
    "    n_count=counter[1]\n",
    "    total_counter[1]+=n_count\n",
    "    print(\"positve :\"+str(p_count/(p_count+n_count)*100)+\"%\")\n",
    "    print(\"negative:\"+str(n_count/(p_count+n_count)*100)+\"%\")"
   ]
  },
  {
   "cell_type": "code",
   "execution_count": 34,
   "metadata": {},
   "outputs": [
    {
     "name": "stdout",
     "output_type": "stream",
     "text": [
      "positve :92.06349206349206%\n",
      "negative:7.936507936507936%\n"
     ]
    }
   ],
   "source": [
    "print_score(food_list)"
   ]
  },
  {
   "cell_type": "code",
   "execution_count": 35,
   "metadata": {},
   "outputs": [
    {
     "name": "stdout",
     "output_type": "stream",
     "text": [
      "positve :90.22222222222223%\n",
      "negative:9.777777777777779%\n"
     ]
    }
   ],
   "source": [
    "print_score(service_list)"
   ]
  },
  {
   "cell_type": "code",
   "execution_count": 36,
   "metadata": {},
   "outputs": [
    {
     "name": "stdout",
     "output_type": "stream",
     "text": [
      "positve :97.05882352941177%\n",
      "negative:2.941176470588235%\n"
     ]
    }
   ],
   "source": [
    "print_score(ambience_list)"
   ]
  },
  {
   "cell_type": "code",
   "execution_count": 37,
   "metadata": {},
   "outputs": [
    {
     "name": "stdout",
     "output_type": "stream",
     "text": [
      "positve :89.0625%\n",
      "negative:10.9375%\n"
     ]
    }
   ],
   "source": [
    "print_score(value_list)"
   ]
  },
  {
   "cell_type": "code",
   "execution_count": 38,
   "metadata": {},
   "outputs": [
    {
     "name": "stdout",
     "output_type": "stream",
     "text": [
      "positve :87.90035587188612%\n",
      "negative:12.099644128113878%\n"
     ]
    }
   ],
   "source": [
    "print_score(others_list)"
   ]
  },
  {
   "cell_type": "code",
   "execution_count": 39,
   "metadata": {},
   "outputs": [
    {
     "name": "stdout",
     "output_type": "stream",
     "text": [
      "total positve :90.20926756352765%\n",
      "total negative:9.790732436472346%\n"
     ]
    }
   ],
   "source": [
    "#all topic's sentiment distribution\n",
    "print(\"total positve :\"+str(total_counter[0]/(total_counter[0]+total_counter[1])*100)+\"%\")\n",
    "print(\"total negative:\"+str(total_counter[1]/(total_counter[0]+total_counter[1])*100)+\"%\")"
   ]
  },
  {
   "cell_type": "code",
   "execution_count": 23,
   "metadata": {},
   "outputs": [],
   "source": [
    "# counter = [0,0]#0 for positive 1 for negative \n",
    "# for x in range(1,39): #要隨著reviews筆數更改 總共reviews+1\n",
    "#     df = pd.read_csv('original_review_sets/review'+str(x)+'.txt', header=None)\n",
    "#     df = df.dropna(axis=1)\n",
    "#     string_list = df.values.tolist()[0]\n",
    "#     string =  string_list[0]\n",
    "#     sentiment_analyzer_scores(string)\n",
    "# p_count=counter[0]\n",
    "# n_count=counter[1]\n",
    "# print(p_count/(p_count+n_count))\n",
    "# print(n_count/(p_count+n_count))"
   ]
  },
  {
   "cell_type": "code",
   "execution_count": null,
   "metadata": {},
   "outputs": [],
   "source": []
  }
 ],
 "metadata": {
  "kernelspec": {
   "display_name": "Python 3",
   "language": "python",
   "name": "python3"
  },
  "language_info": {
   "codemirror_mode": {
    "name": "ipython",
    "version": 3
   },
   "file_extension": ".py",
   "mimetype": "text/x-python",
   "name": "python",
   "nbconvert_exporter": "python",
   "pygments_lexer": "ipython3",
   "version": "3.7.0"
  }
 },
 "nbformat": 4,
 "nbformat_minor": 2
}
